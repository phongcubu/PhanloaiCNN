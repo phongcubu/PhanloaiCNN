{
  "nbformat": 4,
  "nbformat_minor": 0,
  "metadata": {
    "colab": {
      "name": "KNN.ipynb",
      "provenance": [],
      "collapsed_sections": []
    },
    "kernelspec": {
      "name": "python3",
      "display_name": "Python 3"
    },
    "language_info": {
      "name": "python"
    }
  },
  "cells": [
    {
      "cell_type": "code",
      "execution_count": null,
      "metadata": {
        "colab": {
          "base_uri": "https://localhost:8080/"
        },
        "id": "O_MR9BdBbWM2",
        "outputId": "6538a8d1-4295-4055-f9d4-1305c5d07a40"
      },
      "outputs": [
        {
          "output_type": "stream",
          "name": "stdout",
          "text": [
            "Mounted at /content/drive\n"
          ]
        }
      ],
      "source": [
        "from google.colab import drive\n",
        "drive.mount('/content/drive')"
      ]
    },
    {
      "cell_type": "code",
      "source": [
        "import pandas as pd\n",
        "import matplotlib.pyplot as plt\n",
        "import seaborn as sns\n",
        "from sklearn.model_selection import train_test_split\n",
        "from sklearn.metrics import accuracy_score, confusion_matrix\n",
        "from sklearn.neighbors import KNeighborsClassifier\n",
        "import numpy as np\n",
        "import imutils\n",
        "import cv2\n"
      ],
      "metadata": {
        "id": "IqiOGzXbbdSU"
      },
      "execution_count": null,
      "outputs": []
    },
    {
      "cell_type": "markdown",
      "source": [
        "**Đọc vào file mnist.csv được biến dataframe df. Hiển thị df.**"
      ],
      "metadata": {
        "id": "bPFbkozAdiXR"
      }
    },
    {
      "cell_type": "code",
      "source": [
        "df = pd.read_csv('/content/drive/MyDrive/Hoc Sau/mnist.csv')\n",
        "df.head()"
      ],
      "metadata": {
        "colab": {
          "base_uri": "https://localhost:8080/",
          "height": 235
        },
        "id": "lW5h9KoTcGgE",
        "outputId": "dd679cbb-1da6-454e-e644-c429f6718fde"
      },
      "execution_count": null,
      "outputs": [
        {
          "output_type": "execute_result",
          "data": {
            "text/plain": [
              "   5  0  0.1  0.2  0.3  0.4  0.5  0.6  0.7  0.8  ...  0.608  0.609  0.610  \\\n",
              "0  0  0    0    0    0    0    0    0    0    0  ...      0      0      0   \n",
              "1  4  0    0    0    0    0    0    0    0    0  ...      0      0      0   \n",
              "2  1  0    0    0    0    0    0    0    0    0  ...      0      0      0   \n",
              "3  9  0    0    0    0    0    0    0    0    0  ...      0      0      0   \n",
              "4  2  0    0    0    0    0    0    0    0    0  ...      0      0      0   \n",
              "\n",
              "   0.611  0.612  0.613  0.614  0.615  0.616  0.617  \n",
              "0      0      0      0      0      0      0      0  \n",
              "1      0      0      0      0      0      0      0  \n",
              "2      0      0      0      0      0      0      0  \n",
              "3      0      0      0      0      0      0      0  \n",
              "4      0      0      0      0      0      0      0  \n",
              "\n",
              "[5 rows x 785 columns]"
            ],
            "text/html": [
              "\n",
              "  <div id=\"df-939cf55c-8b88-4232-8652-056a626b17dd\">\n",
              "    <div class=\"colab-df-container\">\n",
              "      <div>\n",
              "<style scoped>\n",
              "    .dataframe tbody tr th:only-of-type {\n",
              "        vertical-align: middle;\n",
              "    }\n",
              "\n",
              "    .dataframe tbody tr th {\n",
              "        vertical-align: top;\n",
              "    }\n",
              "\n",
              "    .dataframe thead th {\n",
              "        text-align: right;\n",
              "    }\n",
              "</style>\n",
              "<table border=\"1\" class=\"dataframe\">\n",
              "  <thead>\n",
              "    <tr style=\"text-align: right;\">\n",
              "      <th></th>\n",
              "      <th>5</th>\n",
              "      <th>0</th>\n",
              "      <th>0.1</th>\n",
              "      <th>0.2</th>\n",
              "      <th>0.3</th>\n",
              "      <th>0.4</th>\n",
              "      <th>0.5</th>\n",
              "      <th>0.6</th>\n",
              "      <th>0.7</th>\n",
              "      <th>0.8</th>\n",
              "      <th>...</th>\n",
              "      <th>0.608</th>\n",
              "      <th>0.609</th>\n",
              "      <th>0.610</th>\n",
              "      <th>0.611</th>\n",
              "      <th>0.612</th>\n",
              "      <th>0.613</th>\n",
              "      <th>0.614</th>\n",
              "      <th>0.615</th>\n",
              "      <th>0.616</th>\n",
              "      <th>0.617</th>\n",
              "    </tr>\n",
              "  </thead>\n",
              "  <tbody>\n",
              "    <tr>\n",
              "      <th>0</th>\n",
              "      <td>0</td>\n",
              "      <td>0</td>\n",
              "      <td>0</td>\n",
              "      <td>0</td>\n",
              "      <td>0</td>\n",
              "      <td>0</td>\n",
              "      <td>0</td>\n",
              "      <td>0</td>\n",
              "      <td>0</td>\n",
              "      <td>0</td>\n",
              "      <td>...</td>\n",
              "      <td>0</td>\n",
              "      <td>0</td>\n",
              "      <td>0</td>\n",
              "      <td>0</td>\n",
              "      <td>0</td>\n",
              "      <td>0</td>\n",
              "      <td>0</td>\n",
              "      <td>0</td>\n",
              "      <td>0</td>\n",
              "      <td>0</td>\n",
              "    </tr>\n",
              "    <tr>\n",
              "      <th>1</th>\n",
              "      <td>4</td>\n",
              "      <td>0</td>\n",
              "      <td>0</td>\n",
              "      <td>0</td>\n",
              "      <td>0</td>\n",
              "      <td>0</td>\n",
              "      <td>0</td>\n",
              "      <td>0</td>\n",
              "      <td>0</td>\n",
              "      <td>0</td>\n",
              "      <td>...</td>\n",
              "      <td>0</td>\n",
              "      <td>0</td>\n",
              "      <td>0</td>\n",
              "      <td>0</td>\n",
              "      <td>0</td>\n",
              "      <td>0</td>\n",
              "      <td>0</td>\n",
              "      <td>0</td>\n",
              "      <td>0</td>\n",
              "      <td>0</td>\n",
              "    </tr>\n",
              "    <tr>\n",
              "      <th>2</th>\n",
              "      <td>1</td>\n",
              "      <td>0</td>\n",
              "      <td>0</td>\n",
              "      <td>0</td>\n",
              "      <td>0</td>\n",
              "      <td>0</td>\n",
              "      <td>0</td>\n",
              "      <td>0</td>\n",
              "      <td>0</td>\n",
              "      <td>0</td>\n",
              "      <td>...</td>\n",
              "      <td>0</td>\n",
              "      <td>0</td>\n",
              "      <td>0</td>\n",
              "      <td>0</td>\n",
              "      <td>0</td>\n",
              "      <td>0</td>\n",
              "      <td>0</td>\n",
              "      <td>0</td>\n",
              "      <td>0</td>\n",
              "      <td>0</td>\n",
              "    </tr>\n",
              "    <tr>\n",
              "      <th>3</th>\n",
              "      <td>9</td>\n",
              "      <td>0</td>\n",
              "      <td>0</td>\n",
              "      <td>0</td>\n",
              "      <td>0</td>\n",
              "      <td>0</td>\n",
              "      <td>0</td>\n",
              "      <td>0</td>\n",
              "      <td>0</td>\n",
              "      <td>0</td>\n",
              "      <td>...</td>\n",
              "      <td>0</td>\n",
              "      <td>0</td>\n",
              "      <td>0</td>\n",
              "      <td>0</td>\n",
              "      <td>0</td>\n",
              "      <td>0</td>\n",
              "      <td>0</td>\n",
              "      <td>0</td>\n",
              "      <td>0</td>\n",
              "      <td>0</td>\n",
              "    </tr>\n",
              "    <tr>\n",
              "      <th>4</th>\n",
              "      <td>2</td>\n",
              "      <td>0</td>\n",
              "      <td>0</td>\n",
              "      <td>0</td>\n",
              "      <td>0</td>\n",
              "      <td>0</td>\n",
              "      <td>0</td>\n",
              "      <td>0</td>\n",
              "      <td>0</td>\n",
              "      <td>0</td>\n",
              "      <td>...</td>\n",
              "      <td>0</td>\n",
              "      <td>0</td>\n",
              "      <td>0</td>\n",
              "      <td>0</td>\n",
              "      <td>0</td>\n",
              "      <td>0</td>\n",
              "      <td>0</td>\n",
              "      <td>0</td>\n",
              "      <td>0</td>\n",
              "      <td>0</td>\n",
              "    </tr>\n",
              "  </tbody>\n",
              "</table>\n",
              "<p>5 rows × 785 columns</p>\n",
              "</div>\n",
              "      <button class=\"colab-df-convert\" onclick=\"convertToInteractive('df-939cf55c-8b88-4232-8652-056a626b17dd')\"\n",
              "              title=\"Convert this dataframe to an interactive table.\"\n",
              "              style=\"display:none;\">\n",
              "        \n",
              "  <svg xmlns=\"http://www.w3.org/2000/svg\" height=\"24px\"viewBox=\"0 0 24 24\"\n",
              "       width=\"24px\">\n",
              "    <path d=\"M0 0h24v24H0V0z\" fill=\"none\"/>\n",
              "    <path d=\"M18.56 5.44l.94 2.06.94-2.06 2.06-.94-2.06-.94-.94-2.06-.94 2.06-2.06.94zm-11 1L8.5 8.5l.94-2.06 2.06-.94-2.06-.94L8.5 2.5l-.94 2.06-2.06.94zm10 10l.94 2.06.94-2.06 2.06-.94-2.06-.94-.94-2.06-.94 2.06-2.06.94z\"/><path d=\"M17.41 7.96l-1.37-1.37c-.4-.4-.92-.59-1.43-.59-.52 0-1.04.2-1.43.59L10.3 9.45l-7.72 7.72c-.78.78-.78 2.05 0 2.83L4 21.41c.39.39.9.59 1.41.59.51 0 1.02-.2 1.41-.59l7.78-7.78 2.81-2.81c.8-.78.8-2.07 0-2.86zM5.41 20L4 18.59l7.72-7.72 1.47 1.35L5.41 20z\"/>\n",
              "  </svg>\n",
              "      </button>\n",
              "      \n",
              "  <style>\n",
              "    .colab-df-container {\n",
              "      display:flex;\n",
              "      flex-wrap:wrap;\n",
              "      gap: 12px;\n",
              "    }\n",
              "\n",
              "    .colab-df-convert {\n",
              "      background-color: #E8F0FE;\n",
              "      border: none;\n",
              "      border-radius: 50%;\n",
              "      cursor: pointer;\n",
              "      display: none;\n",
              "      fill: #1967D2;\n",
              "      height: 32px;\n",
              "      padding: 0 0 0 0;\n",
              "      width: 32px;\n",
              "    }\n",
              "\n",
              "    .colab-df-convert:hover {\n",
              "      background-color: #E2EBFA;\n",
              "      box-shadow: 0px 1px 2px rgba(60, 64, 67, 0.3), 0px 1px 3px 1px rgba(60, 64, 67, 0.15);\n",
              "      fill: #174EA6;\n",
              "    }\n",
              "\n",
              "    [theme=dark] .colab-df-convert {\n",
              "      background-color: #3B4455;\n",
              "      fill: #D2E3FC;\n",
              "    }\n",
              "\n",
              "    [theme=dark] .colab-df-convert:hover {\n",
              "      background-color: #434B5C;\n",
              "      box-shadow: 0px 1px 3px 1px rgba(0, 0, 0, 0.15);\n",
              "      filter: drop-shadow(0px 1px 2px rgba(0, 0, 0, 0.3));\n",
              "      fill: #FFFFFF;\n",
              "    }\n",
              "  </style>\n",
              "\n",
              "      <script>\n",
              "        const buttonEl =\n",
              "          document.querySelector('#df-939cf55c-8b88-4232-8652-056a626b17dd button.colab-df-convert');\n",
              "        buttonEl.style.display =\n",
              "          google.colab.kernel.accessAllowed ? 'block' : 'none';\n",
              "\n",
              "        async function convertToInteractive(key) {\n",
              "          const element = document.querySelector('#df-939cf55c-8b88-4232-8652-056a626b17dd');\n",
              "          const dataTable =\n",
              "            await google.colab.kernel.invokeFunction('convertToInteractive',\n",
              "                                                     [key], {});\n",
              "          if (!dataTable) return;\n",
              "\n",
              "          const docLinkHtml = 'Like what you see? Visit the ' +\n",
              "            '<a target=\"_blank\" href=https://colab.research.google.com/notebooks/data_table.ipynb>data table notebook</a>'\n",
              "            + ' to learn more about interactive tables.';\n",
              "          element.innerHTML = '';\n",
              "          dataTable['output_type'] = 'display_data';\n",
              "          await google.colab.output.renderOutput(dataTable, element);\n",
              "          const docLink = document.createElement('div');\n",
              "          docLink.innerHTML = docLinkHtml;\n",
              "          element.appendChild(docLink);\n",
              "        }\n",
              "      </script>\n",
              "    </div>\n",
              "  </div>\n",
              "  "
            ]
          },
          "metadata": {},
          "execution_count": 3
        }
      ]
    },
    {
      "cell_type": "markdown",
      "source": [
        "**  Từ dataframe df, chọn dataframe giá trị nhãn y là cột đầu tiên của df, dataframe X là tất cả các cột còn lại của df. Hiển thị X,y.**"
      ],
      "metadata": {
        "id": "kF6UmeBPdoMo"
      }
    },
    {
      "cell_type": "code",
      "source": [
        "df.info()\n",
        "y=df['5']\n",
        "X = df.drop('5', axis=1)"
      ],
      "metadata": {
        "colab": {
          "base_uri": "https://localhost:8080/"
        },
        "id": "YdtHNtlAcxFT",
        "outputId": "73911ae1-6652-4e4d-ec62-79e0f723dc9a"
      },
      "execution_count": null,
      "outputs": [
        {
          "output_type": "stream",
          "name": "stdout",
          "text": [
            "<class 'pandas.core.frame.DataFrame'>\n",
            "RangeIndex: 59999 entries, 0 to 59998\n",
            "Columns: 785 entries, 5 to 0.617\n",
            "dtypes: int64(785)\n",
            "memory usage: 359.3 MB\n"
          ]
        }
      ]
    },
    {
      "cell_type": "code",
      "source": [
        "print(y)"
      ],
      "metadata": {
        "colab": {
          "base_uri": "https://localhost:8080/"
        },
        "id": "iWjkuXLoc1ay",
        "outputId": "f115ef5a-ed3e-41cf-aa41-95291f2ec16c"
      },
      "execution_count": null,
      "outputs": [
        {
          "output_type": "stream",
          "name": "stdout",
          "text": [
            "0        0\n",
            "1        4\n",
            "2        1\n",
            "3        9\n",
            "4        2\n",
            "        ..\n",
            "59994    8\n",
            "59995    3\n",
            "59996    5\n",
            "59997    6\n",
            "59998    8\n",
            "Name: 5, Length: 59999, dtype: int64\n"
          ]
        }
      ]
    },
    {
      "cell_type": "code",
      "source": [
        "print(X)"
      ],
      "metadata": {
        "colab": {
          "base_uri": "https://localhost:8080/"
        },
        "id": "XmkyrBpvc3yz",
        "outputId": "6a275868-d8d7-475e-f402-5d7f7bbc177e"
      },
      "execution_count": null,
      "outputs": [
        {
          "output_type": "stream",
          "name": "stdout",
          "text": [
            "       0  0.1  0.2  0.3  0.4  0.5  0.6  0.7  0.8  0.9  ...  0.608  0.609  \\\n",
            "0      0    0    0    0    0    0    0    0    0    0  ...      0      0   \n",
            "1      0    0    0    0    0    0    0    0    0    0  ...      0      0   \n",
            "2      0    0    0    0    0    0    0    0    0    0  ...      0      0   \n",
            "3      0    0    0    0    0    0    0    0    0    0  ...      0      0   \n",
            "4      0    0    0    0    0    0    0    0    0    0  ...      0      0   \n",
            "...   ..  ...  ...  ...  ...  ...  ...  ...  ...  ...  ...    ...    ...   \n",
            "59994  0    0    0    0    0    0    0    0    0    0  ...      0      0   \n",
            "59995  0    0    0    0    0    0    0    0    0    0  ...      0      0   \n",
            "59996  0    0    0    0    0    0    0    0    0    0  ...      0      0   \n",
            "59997  0    0    0    0    0    0    0    0    0    0  ...      0      0   \n",
            "59998  0    0    0    0    0    0    0    0    0    0  ...      0      0   \n",
            "\n",
            "       0.610  0.611  0.612  0.613  0.614  0.615  0.616  0.617  \n",
            "0          0      0      0      0      0      0      0      0  \n",
            "1          0      0      0      0      0      0      0      0  \n",
            "2          0      0      0      0      0      0      0      0  \n",
            "3          0      0      0      0      0      0      0      0  \n",
            "4          0      0      0      0      0      0      0      0  \n",
            "...      ...    ...    ...    ...    ...    ...    ...    ...  \n",
            "59994      0      0      0      0      0      0      0      0  \n",
            "59995      0      0      0      0      0      0      0      0  \n",
            "59996      0      0      0      0      0      0      0      0  \n",
            "59997      0      0      0      0      0      0      0      0  \n",
            "59998      0      0      0      0      0      0      0      0  \n",
            "\n",
            "[59999 rows x 784 columns]\n"
          ]
        }
      ]
    },
    {
      "cell_type": "markdown",
      "source": [
        "**Chia ngẫu nhiên X,y thành X_train,y_train và X_test,y_test theo tỉ lệ 70:30. Hiển thị X_test,y_test.**\n"
      ],
      "metadata": {
        "id": "cTziIo8adqrK"
      }
    },
    {
      "cell_type": "code",
      "source": [
        "X_train, X_test, Y_train, Y_test = train_test_split(X,y,test_size= 0.3 ,stratify=y,random_state= 1)"
      ],
      "metadata": {
        "id": "xMLO6bh5dxPz"
      },
      "execution_count": null,
      "outputs": []
    },
    {
      "cell_type": "code",
      "source": [
        "print(\"X-Test\")\n",
        "print(X_test)"
      ],
      "metadata": {
        "colab": {
          "base_uri": "https://localhost:8080/"
        },
        "id": "SQBO_tClfDJf",
        "outputId": "f06c766c-f2ef-4047-e8ef-fd950c9525a7"
      },
      "execution_count": null,
      "outputs": [
        {
          "output_type": "stream",
          "name": "stdout",
          "text": [
            "X-Test\n",
            "       0  0.1  0.2  0.3  0.4  0.5  0.6  0.7  0.8  0.9  ...  0.608  0.609  \\\n",
            "37075  0    0    0    0    0    0    0    0    0    0  ...      0      0   \n",
            "47825  0    0    0    0    0    0    0    0    0    0  ...      0      0   \n",
            "18573  0    0    0    0    0    0    0    0    0    0  ...      0      0   \n",
            "58024  0    0    0    0    0    0    0    0    0    0  ...      0      0   \n",
            "51960  0    0    0    0    0    0    0    0    0    0  ...      0      0   \n",
            "...   ..  ...  ...  ...  ...  ...  ...  ...  ...  ...  ...    ...    ...   \n",
            "44281  0    0    0    0    0    0    0    0    0    0  ...      0      0   \n",
            "21084  0    0    0    0    0    0    0    0    0    0  ...      0      0   \n",
            "31902  0    0    0    0    0    0    0    0    0    0  ...      0      0   \n",
            "22910  0    0    0    0    0    0    0    0    0    0  ...      0      0   \n",
            "38828  0    0    0    0    0    0    0    0    0    0  ...      0      0   \n",
            "\n",
            "       0.610  0.611  0.612  0.613  0.614  0.615  0.616  0.617  \n",
            "37075      0      0      0      0      0      0      0      0  \n",
            "47825      0      0      0      0      0      0      0      0  \n",
            "18573      0      0      0      0      0      0      0      0  \n",
            "58024      0      0      0      0      0      0      0      0  \n",
            "51960      0      0      0      0      0      0      0      0  \n",
            "...      ...    ...    ...    ...    ...    ...    ...    ...  \n",
            "44281      0      0      0      0      0      0      0      0  \n",
            "21084      0      0      0      0      0      0      0      0  \n",
            "31902      0      0      0      0      0      0      0      0  \n",
            "22910      0      0      0      0      0      0      0      0  \n",
            "38828      0      0      0      0      0      0      0      0  \n",
            "\n",
            "[18000 rows x 784 columns]\n"
          ]
        }
      ]
    },
    {
      "cell_type": "code",
      "source": [
        "print(\"Y-Test\")\n",
        "print(Y_test)"
      ],
      "metadata": {
        "colab": {
          "base_uri": "https://localhost:8080/"
        },
        "id": "x7Gqhbz1fJkn",
        "outputId": "83d1fca7-6025-4827-f009-71d7081b5629"
      },
      "execution_count": null,
      "outputs": [
        {
          "output_type": "stream",
          "name": "stdout",
          "text": [
            "Y-Test\n",
            "37075    4\n",
            "47825    4\n",
            "18573    8\n",
            "58024    5\n",
            "51960    2\n",
            "        ..\n",
            "44281    3\n",
            "21084    8\n",
            "31902    6\n",
            "22910    7\n",
            "38828    9\n",
            "Name: 5, Length: 18000, dtype: int64\n"
          ]
        }
      ]
    },
    {
      "cell_type": "code",
      "source": [
        "kVals = range(1, 100, 2)\n",
        "accuracies = []\n",
        "\n",
        "# loop over various values of `k` for the k-Nearest Neighbor classifier\n",
        "for k in range(1, 100, 2):\n",
        "\t# train the k-Nearest Neighbor classifier with the current value of `k`\n",
        "\tmodel = KNeighborsClassifier(n_neighbors=k)\n",
        "\tmodel.fit(X_train, Y_train)\n",
        "\n",
        "\t# evaluate the model and update the accuracies list\n",
        "\tscore = model.score(X_test, Y_test)\n",
        "\tprint(\"k=%d, accuracy=%.2f%%\" % (k, score * 100))\n",
        "\taccuracies.append(score)\n",
        "\n",
        "# find the value of k that has the largest accuracy\n",
        "i = int(np.argmax(accuracies))\n",
        "print(\"k=%d achieved highest accuracy of %.2f%% on validation data\" % (kVals[i],\n",
        "\taccuracies[i] * 100))"
      ],
      "metadata": {
        "colab": {
          "base_uri": "https://localhost:8080/"
        },
        "id": "UHRXkMOZgkYm",
        "outputId": "bfa8abfe-60ec-415a-a899-4c669f1920fd"
      },
      "execution_count": null,
      "outputs": [
        {
          "output_type": "stream",
          "name": "stdout",
          "text": [
            "k=1, accuracy=97.06%\n",
            "k=3, accuracy=97.25%\n",
            "k=5, accuracy=96.99%\n",
            "k=7, accuracy=96.81%\n",
            "k=9, accuracy=96.76%\n",
            "k=11, accuracy=96.63%\n",
            "k=13, accuracy=96.43%\n",
            "k=15, accuracy=96.31%\n",
            "k=17, accuracy=96.20%\n",
            "k=19, accuracy=96.07%\n",
            "k=21, accuracy=95.96%\n",
            "k=23, accuracy=95.88%\n",
            "k=25, accuracy=95.74%\n",
            "k=27, accuracy=95.68%\n",
            "k=29, accuracy=95.59%\n",
            "k=31, accuracy=95.45%\n",
            "k=33, accuracy=95.39%\n",
            "k=35, accuracy=95.33%\n",
            "k=37, accuracy=95.22%\n",
            "k=39, accuracy=95.17%\n",
            "k=41, accuracy=95.07%\n",
            "k=43, accuracy=95.03%\n",
            "k=45, accuracy=94.94%\n",
            "k=47, accuracy=94.86%\n",
            "k=49, accuracy=94.82%\n",
            "k=51, accuracy=94.77%\n",
            "k=53, accuracy=94.69%\n",
            "k=55, accuracy=94.61%\n",
            "k=57, accuracy=94.56%\n",
            "k=59, accuracy=94.46%\n",
            "k=61, accuracy=94.43%\n",
            "k=63, accuracy=94.33%\n",
            "k=65, accuracy=94.28%\n",
            "k=67, accuracy=94.23%\n",
            "k=69, accuracy=94.15%\n",
            "k=71, accuracy=94.09%\n",
            "k=73, accuracy=94.03%\n",
            "k=75, accuracy=93.96%\n",
            "k=77, accuracy=93.93%\n",
            "k=79, accuracy=93.86%\n",
            "k=81, accuracy=93.83%\n",
            "k=83, accuracy=93.80%\n",
            "k=85, accuracy=93.77%\n",
            "k=87, accuracy=93.72%\n",
            "k=89, accuracy=93.69%\n",
            "k=91, accuracy=93.66%\n",
            "k=93, accuracy=93.61%\n",
            "k=95, accuracy=93.56%\n",
            "k=97, accuracy=93.55%\n",
            "k=99, accuracy=93.48%\n",
            "k=3 achieved highest accuracy of 97.25% on validation data\n"
          ]
        }
      ]
    },
    {
      "cell_type": "markdown",
      "source": [
        "**. Dự báo kết quả và đánh giá độ chính xác dự báo trên tập X_test,y_test.**"
      ],
      "metadata": {
        "id": "so79YPscmnn6"
      }
    },
    {
      "cell_type": "code",
      "source": [
        "from sklearn.metrics import classification_report\n",
        "predictions = model.predict(X_test)\n",
        "\n",
        "# show a final classification report demonstrating the accuracy of the classifier\n",
        "# for each of the digits\n",
        "print(\"EVALUATION ON TESTING DATA\")\n",
        "print(classification_report(Y_test, predictions))"
      ],
      "metadata": {
        "colab": {
          "base_uri": "https://localhost:8080/"
        },
        "id": "MzVXCzkMmS7s",
        "outputId": "c720f54a-8709-4022-ec5b-c6385be88b79"
      },
      "execution_count": null,
      "outputs": [
        {
          "output_type": "stream",
          "name": "stdout",
          "text": [
            "EVALUATION ON TESTING DATA\n",
            "              precision    recall  f1-score   support\n",
            "\n",
            "           0       0.96      0.99      0.97      1777\n",
            "           1       0.85      1.00      0.92      2023\n",
            "           2       0.98      0.88      0.93      1787\n",
            "           3       0.93      0.93      0.93      1839\n",
            "           4       0.97      0.91      0.94      1753\n",
            "           5       0.94      0.92      0.93      1626\n",
            "           6       0.96      0.98      0.97      1775\n",
            "           7       0.93      0.94      0.94      1880\n",
            "           8       0.98      0.86      0.91      1755\n",
            "           9       0.88      0.93      0.91      1785\n",
            "\n",
            "    accuracy                           0.93     18000\n",
            "   macro avg       0.94      0.93      0.94     18000\n",
            "weighted avg       0.94      0.93      0.93     18000\n",
            "\n"
          ]
        }
      ]
    },
    {
      "cell_type": "markdown",
      "source": [
        "**Nhận dạng chữ với ảnh bằng Opencv2**"
      ],
      "metadata": {
        "id": "3oMa6cOosnNF"
      }
    },
    {
      "cell_type": "code",
      "source": [
        "import requests\n",
        "from PIL import Image\n",
        "url = 'https://www.researchgate.net/profile/Jose_Sempere/publication/221258631/figure/fig1/AS:305526891139075@1449854695342/Handwritten-digit-0.png'\n",
        "response = requests.get(url, stream=True)\n",
        "img = Image.open(response.raw)\n",
        "plt.imshow(img, cmap=plt.get_cmap('gray'))"
      ],
      "metadata": {
        "colab": {
          "base_uri": "https://localhost:8080/",
          "height": 286
        },
        "id": "HHsu3nsg7z7q",
        "outputId": "eeb8fb48-bc5d-440f-9cc1-5873268e7481"
      },
      "execution_count": null,
      "outputs": [
        {
          "output_type": "execute_result",
          "data": {
            "text/plain": [
              "<matplotlib.image.AxesImage at 0x7fcfff5ea850>"
            ]
          },
          "metadata": {},
          "execution_count": 32
        },
        {
          "output_type": "display_data",
          "data": {
            "text/plain": [
              "<Figure size 432x288 with 1 Axes>"
            ],
            "image/png": "[encoded data removed]"
          },
          "metadata": {
            "needs_background": "light"
          }
        }
      ]
    },
    {
      "cell_type": "code",
      "source": [
        "import cv2\n",
        "array_img = np.asarray(img)\n",
        "resized_img = cv2.resize(array_img, (28, 28))\n",
        "print(\"resized image shape:\", resized_img.shape)\n",
        "gray_img = cv2.cvtColor(resized_img, cv2.COLOR_BGR2GRAY)\n",
        "print(\"Grayscale image shape:\", gray_img.shape)\n",
        "image = cv2.bitwise_not(gray_img)\n",
        "plt.imshow(image, cmap=plt.get_cmap('gray'))"
      ],
      "metadata": {
        "colab": {
          "base_uri": "https://localhost:8080/",
          "height": 317
        },
        "id": "FLnuqbm270Xp",
        "outputId": "b21472ab-3394-4ca6-e872-74a5b4fd0c88"
      },
      "execution_count": null,
      "outputs": [
        {
          "output_type": "stream",
          "name": "stdout",
          "text": [
            "resized image shape: (28, 28, 4)\n",
            "Grayscale image shape: (28, 28)\n"
          ]
        },
        {
          "output_type": "execute_result",
          "data": {
            "text/plain": [
              "<matplotlib.image.AxesImage at 0x7f515b145710>"
            ]
          },
          "metadata": {},
          "execution_count": 21
        },
        {
          "output_type": "display_data",
          "data": {
            "text/plain": [
              "<Figure size 432x288 with 1 Axes>"
            ],
            "image/png": "[encoded data removed]"
          },
          "metadata": {
            "needs_background": "light"
          }
        }
      ]
    },
    {
      "cell_type": "code",
      "source": [
        "image = image/255\n",
        "print(image)\n",
        "image = image.reshape(1,-1)"
      ],
      "metadata": {
        "colab": {
          "base_uri": "https://localhost:8080/"
        },
        "id": "zwLR7X6J74_Y",
        "outputId": "81bd8fca-d081-4396-9e48-149f6695f9da"
      },
      "execution_count": null,
      "outputs": [
        {
          "output_type": "stream",
          "name": "stdout",
          "text": [
            "[[0.         0.         0.         0.         0.         0.\n",
            "  0.         0.         0.         0.         0.         0.\n",
            "  0.         0.4627451  1.         1.         1.         1.\n",
            "  1.         1.         1.         1.         0.87058824 0.\n",
            "  0.         0.         0.         0.        ]\n",
            " [0.         0.         0.         0.         0.         0.\n",
            "  0.         0.         1.         1.         1.         1.\n",
            "  1.         1.         1.         1.         1.         1.\n",
            "  1.         1.         1.         1.         1.         0.00784314\n",
            "  0.         0.         0.         0.        ]\n",
            " [0.         0.         0.         0.         0.         0.\n",
            "  0.         1.         1.         1.         1.         1.\n",
            "  1.         1.         1.         1.         1.         1.\n",
            "  1.         1.         1.         1.         1.         1.\n",
            "  1.         0.         0.         0.        ]\n",
            " [0.         0.         0.         0.         0.         0.\n",
            "  0.         1.         1.         1.         1.         1.\n",
            "  1.         1.         1.         1.         1.         1.\n",
            "  1.         1.         1.         1.         1.         1.\n",
            "  1.         0.         0.         0.        ]\n",
            " [0.         0.         0.         0.         0.         0.\n",
            "  0.         1.         1.         1.         1.         1.\n",
            "  1.         1.         1.         1.         0.99607843 0.99607843\n",
            "  0.99607843 0.         0.9254902  1.         1.         1.\n",
            "  1.         0.         0.         0.        ]\n",
            " [0.         0.         0.         0.         0.         0.\n",
            "  0.         0.12941176 1.         1.         1.         1.\n",
            "  1.         1.         1.         0.12941176 0.         0.\n",
            "  0.         0.         0.         1.         1.         1.\n",
            "  1.         0.         0.         0.        ]\n",
            " [0.         0.         0.         0.         0.         0.\n",
            "  0.         0.         0.08235294 1.         1.         1.\n",
            "  1.         1.         0.08235294 0.         0.         0.\n",
            "  0.         0.         0.84313725 1.         1.         1.\n",
            "  1.         0.         0.         0.        ]\n",
            " [0.         0.         0.         0.         0.         0.\n",
            "  0.         0.         0.         0.         0.24705882 1.\n",
            "  1.         0.5372549  0.         0.         0.         0.\n",
            "  0.         0.         0.92156863 1.         1.         1.\n",
            "  1.         0.         0.         0.        ]\n",
            " [0.         0.         0.         0.         0.         0.\n",
            "  0.         0.         0.         0.         0.         1.\n",
            "  0.         0.         0.         0.         0.         0.\n",
            "  0.         0.         0.92156863 1.         1.         1.\n",
            "  1.         0.         0.         0.        ]\n",
            " [0.         0.         0.         0.         0.         0.\n",
            "  0.         0.         0.         0.         0.         0.\n",
            "  0.         0.         0.         0.         0.         0.\n",
            "  0.         0.02745098 1.         1.         1.         1.\n",
            "  1.         0.         0.         0.        ]\n",
            " [0.         0.         0.         0.         0.         0.\n",
            "  0.         0.         0.         0.         0.         0.\n",
            "  0.         0.         0.         0.         0.         0.\n",
            "  0.         1.         1.         1.         1.         1.\n",
            "  0.         0.         0.         0.        ]\n",
            " [0.         0.         0.         0.         0.         0.\n",
            "  0.         0.         0.         0.         0.         0.\n",
            "  0.         0.         0.         0.         0.         0.\n",
            "  1.         1.         1.         1.         1.         1.\n",
            "  0.         0.         0.         0.        ]\n",
            " [0.         0.         0.         0.         0.         0.\n",
            "  0.         0.         0.         0.         0.         0.\n",
            "  0.         0.         0.         0.         0.         0.\n",
            "  1.         1.         1.         1.         1.         0.00784314\n",
            "  0.         0.         0.         0.        ]\n",
            " [0.         0.         0.         0.         0.         0.\n",
            "  0.         0.         0.         0.         0.         0.\n",
            "  0.         0.         0.         0.         0.         0.\n",
            "  1.         1.         1.         1.         0.89803922 0.\n",
            "  0.         0.         0.         0.        ]\n",
            " [0.         0.         0.         0.         0.         0.\n",
            "  0.         0.         0.         0.         0.         0.\n",
            "  0.         0.         0.         0.         0.         1.\n",
            "  1.         1.         1.         0.4627451  0.         0.\n",
            "  0.         0.         0.         0.        ]\n",
            " [0.         0.         0.         0.         0.         0.\n",
            "  0.         0.         0.         0.         0.         0.\n",
            "  0.         0.         0.         0.         0.         1.\n",
            "  1.         1.         0.43529412 0.         0.         0.\n",
            "  0.         0.         0.         0.        ]\n",
            " [0.         0.         0.         0.         1.         1.\n",
            "  1.         0.         0.         0.         0.         0.\n",
            "  0.         0.         0.         0.         1.         1.\n",
            "  1.         1.         0.08235294 0.         0.         0.\n",
            "  0.         0.         0.         0.        ]\n",
            " [0.         0.         1.         1.         1.         1.\n",
            "  1.         1.         1.         1.         1.         0.\n",
            "  0.         0.         0.         0.         1.         1.\n",
            "  1.         1.         0.08235294 0.         0.         0.\n",
            "  0.         0.         0.         0.        ]\n",
            " [0.         1.         1.         1.         1.         1.\n",
            "  1.         1.         1.         1.         1.         1.\n",
            "  1.         1.         1.         1.         1.         1.\n",
            "  1.         0.97647059 0.         0.         0.         0.\n",
            "  0.         0.         0.         0.        ]\n",
            " [0.         1.         1.         1.         1.         1.\n",
            "  1.         1.         1.         1.         1.         1.\n",
            "  1.         1.         1.         1.         1.         1.\n",
            "  1.         1.         0.08235294 0.         0.         0.\n",
            "  0.         0.         0.         0.        ]\n",
            " [1.         1.         1.         1.         1.         1.\n",
            "  1.         1.         1.         1.         1.         1.\n",
            "  1.         1.         1.         1.         1.         1.\n",
            "  1.         1.         1.         0.         0.         0.\n",
            "  0.         1.         1.         0.        ]\n",
            " [1.         1.         1.         1.         1.         0.\n",
            "  0.         0.         0.         1.         1.         1.\n",
            "  1.         1.         1.         1.         1.         1.\n",
            "  1.         1.         1.         1.         1.         1.\n",
            "  1.         1.         1.         1.        ]\n",
            " [0.         1.         1.         1.         1.         0.\n",
            "  0.         0.         0.         0.         0.24313725 1.\n",
            "  1.         1.         1.         1.         1.         1.\n",
            "  1.         1.         1.         1.         1.         1.\n",
            "  1.         1.         1.         0.        ]\n",
            " [0.         0.92941176 1.         1.         1.         1.\n",
            "  1.         0.18039216 0.18039216 1.         1.         1.\n",
            "  1.         1.         1.         1.         0.81960784 0.81960784\n",
            "  0.         0.81960784 0.81960784 0.81960784 0.84313725 1.\n",
            "  1.         1.         0.         0.        ]\n",
            " [0.         0.46666667 1.         1.         1.         1.\n",
            "  1.         1.         1.         1.         1.         1.\n",
            "  1.         1.         1.         0.75294118 0.         0.\n",
            "  0.         0.         0.         0.         0.09803922 0.75294118\n",
            "  0.75294118 0.75294118 0.         0.        ]\n",
            " [0.         0.         0.         0.         1.         1.\n",
            "  1.         1.         1.         1.         1.         1.\n",
            "  1.         0.5254902  0.         0.         0.         0.\n",
            "  0.         0.         0.         0.         0.         0.\n",
            "  0.         0.         0.         0.        ]\n",
            " [0.         0.         0.         0.         0.81176471 1.\n",
            "  1.         1.         1.         1.         1.         1.\n",
            "  0.         0.         0.         0.         0.         0.\n",
            "  0.         0.         0.         0.         0.         0.\n",
            "  0.         0.         0.         0.        ]\n",
            " [0.         0.         0.         0.         0.         0.\n",
            "  0.         1.         1.         1.         0.         0.\n",
            "  0.         0.         0.         0.         0.         0.\n",
            "  0.         0.         0.         0.         0.         0.\n",
            "  0.         0.         0.         0.        ]]\n"
          ]
        }
      ]
    },
    {
      "cell_type": "code",
      "source": [
        "prediction = np.argmax(model.predict(image))\n",
        "print(\"predicted digit:\", str(prediction))"
      ],
      "metadata": {
        "colab": {
          "base_uri": "https://localhost:8080/"
        },
        "id": "UVA9rpZI78Wo",
        "outputId": "78ebccc2-0d0a-46e6-a2c7-952890dc8b24"
      },
      "execution_count": null,
      "outputs": [
        {
          "output_type": "stream",
          "name": "stdout",
          "text": [
            "predicted digit: 0\n"
          ]
        },
        {
          "output_type": "stream",
          "name": "stderr",
          "text": [
            "/usr/local/lib/python3.7/dist-packages/sklearn/base.py:451: UserWarning: X does not have valid feature names, but KNeighborsClassifier was fitted with feature names\n",
            "  \"X does not have valid feature names, but\"\n"
          ]
        }
      ]
    },
    {
      "cell_type": "code",
      "source": [
        "import imutils\n",
        "import numpy as np\n",
        "from imutils.contours import sort_contours\n",
        "\n",
        "image = cv2.imread(\"/content/drive/MyDrive/Hoc Sau/vd.jpg\")\n",
        "gray = cv2.cvtColor(image, cv2.COLOR_BGR2GRAY)\n",
        "blurred = cv2.GaussianBlur(gray, (5, 5), 0)\n",
        "# perform edge detection, find contours in the edge map, and sort the\n",
        "# resulting contours from left-to-right\n",
        "edged = cv2.Canny(blurred, 30, 150)\n",
        "cnts = cv2.findContours(edged.copy(), cv2.RETR_EXTERNAL,\n",
        "\tcv2.CHAIN_APPROX_SIMPLE)\n",
        "cnts = imutils.grab_contours(cnts)\n",
        "cnts = sort_contours(cnts, method=\"left-to-right\")[0]\n",
        "# initialize the list of contour bounding boxes and associated\n",
        "# characters that we'll be OCR'ing\n",
        "chars = []"
      ],
      "metadata": {
        "id": "mAA0u7EA7-_N"
      },
      "execution_count": null,
      "outputs": []
    },
    {
      "cell_type": "markdown",
      "source": [
        "Do model Hình em Train dự đoán ko được chính xác lắm nên đưa ra dự đoán sai ."
      ],
      "metadata": {
        "id": "wmch7S-aXQEy"
      }
    },
    {
      "cell_type": "code",
      "source": [
        "from google.colab.patches import cv2_imshow\n",
        "for c in cnts:\n",
        "    # compute the bounding box of the contour\n",
        "    (x, y, w, h) = cv2.boundingRect(c)\n",
        "    # filter out bounding boxes, ensuring they are neither too small\n",
        "    # nor too large\n",
        "    if (w >= 5 and w <= 150) and (h >= 15 and h <= 120):\n",
        "        # extract the character and threshold it to make the character\n",
        "        # appear as *white* (foreground) on a *black* background, then\n",
        "        # grab the width and height of the thresholded image\n",
        "        roi = gray[y:y + h, x:x + w]\n",
        "        thresh = cv2.threshold(roi, 0, 255,\n",
        "                               cv2.THRESH_BINARY_INV | cv2.THRESH_OTSU)[1]\n",
        "        (tH, tW) = thresh.shape\n",
        "        # if the width is greater than the height, resize along the\n",
        "        # width dimension\n",
        "        if tW > tH:\n",
        "            thresh = imutils.resize(thresh, width=28)\n",
        "        # otherwise, resize along the height\n",
        "        else:\n",
        "            thresh = imutils.resize(thresh, height=28)\n",
        "            (tH, tW) = thresh.shape\n",
        "            dX = int(max(0, 28 - tW) / 2.0)\n",
        "            dY = int(max(0, 28 - tH) / 2.0)\n",
        "            # pad the image and force 28x28 dimensions\n",
        "            padded = cv2.copyMakeBorder(thresh, top=dY, bottom=dY,\n",
        "                                        left=dX, right=dX, borderType=cv2.BORDER_CONSTANT,\n",
        "                                        value=(0, 0, 0))\n",
        "            padded = cv2.resize(padded, (28, 28))\n",
        "            print(padded.shape)\n",
        "            # prepare the padded image for classification via our\n",
        "            # handwriting OCR model\n",
        "            padded = padded.astype(\"float32\") / 255.0\n",
        "            padded = np.expand_dims(padded, axis=-1)\n",
        "            # update our list of characters that will be OCR'd\n",
        "            chars.append((padded, (x, y, w, h)))\n",
        "# extract the bounding box locations and padded characters\n",
        "boxes = [b[1] for b in chars]\n",
        "\n",
        "chars = np.array([c[0] for c in chars], dtype=\"float32\")\n",
        "\n",
        "for i in range(1,len(chars)):\n",
        "  chars=chars[i].reshape(1,-1)\n",
        "  \n",
        "  # OCR the characters using our handwriting recognition model\n",
        "  preds = model.predict(chars)\n",
        "  print(preds)\n",
        "  # define the list of label names\n",
        "  labelNames = \"0123456789\"\n",
        "  labelNames = [l for l in labelNames]\n",
        "  for (pred, (x, y, w, h)) in zip(preds, boxes):\n",
        "      # find the index of the label with the largest corresponding\n",
        "      # probability, then extract the probability and label\n",
        "      i = np.argmax(pred)\n",
        "      prob = pred\n",
        "      label = labelNames[i]\n",
        "      # draw the prediction on the image\n",
        "      print(\"[INFO] {} - {:.2f}%\".format(label, prob* 100))\n",
        "      cv2.rectangle(image, (x, y), (x + w, y + h), (0, 255, 0), 2)\n",
        "      cv2.putText(image, label, (x - 10, y - 10),\n",
        "                  cv2.FONT_HERSHEY_SIMPLEX, 1.2, (0, 255, 0), 2)\n",
        "      # show the image\n",
        "      cv2_imshow(image)\n",
        "\n",
        "\n"
      ],
      "metadata": {
        "colab": {
          "base_uri": "https://localhost:8080/",
          "height": 694
        },
        "id": "j3lYeB7hlm4i",
        "outputId": "05aa4dd9-37a7-43f2-a9f7-5bcf19b02290"
      },
      "execution_count": null,
      "outputs": [
        {
          "output_type": "stream",
          "name": "stdout",
          "text": [
            "(28, 28)\n",
            "(28, 28)\n",
            "(28, 28)\n",
            "(28, 28)\n",
            "(28, 28)\n",
            "(28, 28)\n",
            "(28, 28)\n",
            "(28, 28)\n",
            "[1]\n",
            "[INFO] 0 - 100.00%\n"
          ]
        },
        {
          "output_type": "stream",
          "name": "stderr",
          "text": [
            "/usr/local/lib/python3.7/dist-packages/sklearn/base.py:451: UserWarning: X does not have valid feature names, but KNeighborsClassifier was fitted with feature names\n",
            "  \"X does not have valid feature names, but\"\n"
          ]
        },
        {
          "output_type": "display_data",
          "data": {
            "text/plain": [
              "<PIL.Image.Image image mode=RGB size=1024x341 at 0x7F51592B7F90>"
            ],
            "image/png": "[encoded data removed]"
          },
          "metadata": {}
        },
        {
          "output_type": "error",
          "ename": "IndexError",
          "evalue": "ignored",
          "traceback": [
            "\u001b[0;31m---------------------------------------------------------------------------\u001b[0m",
            "\u001b[0;31mIndexError\u001b[0m                                Traceback (most recent call last)",
            "\u001b[0;32m<ipython-input-80-cbff88548dcb>\u001b[0m in \u001b[0;36m<module>\u001b[0;34m()\u001b[0m\n\u001b[1;32m     41\u001b[0m \u001b[0;34m\u001b[0m\u001b[0m\n\u001b[1;32m     42\u001b[0m \u001b[0;32mfor\u001b[0m \u001b[0mi\u001b[0m \u001b[0;32min\u001b[0m \u001b[0mrange\u001b[0m\u001b[0;34m(\u001b[0m\u001b[0;36m1\u001b[0m\u001b[0;34m,\u001b[0m\u001b[0mlen\u001b[0m\u001b[0;34m(\u001b[0m\u001b[0mchars\u001b[0m\u001b[0;34m)\u001b[0m\u001b[0;34m)\u001b[0m\u001b[0;34m:\u001b[0m\u001b[0;34m\u001b[0m\u001b[0;34m\u001b[0m\u001b[0m\n\u001b[0;32m---> 43\u001b[0;31m   \u001b[0mchars\u001b[0m\u001b[0;34m=\u001b[0m\u001b[0mchars\u001b[0m\u001b[0;34m[\u001b[0m\u001b[0mi\u001b[0m\u001b[0;34m]\u001b[0m\u001b[0;34m.\u001b[0m\u001b[0mreshape\u001b[0m\u001b[0;34m(\u001b[0m\u001b[0;36m1\u001b[0m\u001b[0;34m,\u001b[0m\u001b[0;34m-\u001b[0m\u001b[0;36m1\u001b[0m\u001b[0;34m)\u001b[0m\u001b[0;34m\u001b[0m\u001b[0;34m\u001b[0m\u001b[0m\n\u001b[0m\u001b[1;32m     44\u001b[0m \u001b[0;34m\u001b[0m\u001b[0m\n\u001b[1;32m     45\u001b[0m   \u001b[0;31m# OCR the characters using our handwriting recognition model\u001b[0m\u001b[0;34m\u001b[0m\u001b[0;34m\u001b[0m\u001b[0;34m\u001b[0m\u001b[0m\n",
            "\u001b[0;31mIndexError\u001b[0m: index 2 is out of bounds for axis 0 with size 1"
          ]
        }
      ]
    },
    {
      "cell_type": "markdown",
      "source": [
        "**CNN**"
      ],
      "metadata": {
        "id": "PO7p2Ar5XhmY"
      }
    },
    {
      "cell_type": "code",
      "source": [
        "from keras import Sequential\n",
        "from keras.layers import Dense\n",
        "from tensorflow.keras.utils import to_categorical"
      ],
      "metadata": {
        "id": "3M17qvMjZQ82"
      },
      "execution_count": null,
      "outputs": []
    },
    {
      "cell_type": "code",
      "source": [
        "model = Sequential()\n",
        "model.add(Dense(32,input_dim=784,activation='relu'))\n",
        "model.add(Dense(16,activation='relu'))\n",
        "model.add(Dense(8,activation='relu'))\n",
        "model.add(Dense(1,activation='sigmoid'))\n",
        "model.compile(loss=\"categorical_crossentropy\", optimizer='adam',metrics=[\"accuracy\"])\n",
        "model.fit(X_train, y_train, batch_size=128,validation_data=(X_test, y_test),epochs=20 ,verbose=1)"
      ],
      "metadata": {
        "colab": {
          "base_uri": "https://localhost:8080/"
        },
        "id": "68Kwt5wu2CG_",
        "outputId": "d21fb856-2c3c-4c9a-c7c3-dd6885badc27"
      },
      "execution_count": null,
      "outputs": [
        {
          "output_type": "stream",
          "name": "stdout",
          "text": [
            "Epoch 1/20\n",
            "329/329 [==============================] - 3s 7ms/step - loss: 0.0000e+00 - accuracy: 0.1120 - val_loss: 0.0000e+00 - val_accuracy: 0.1135\n",
            "Epoch 2/20\n",
            "329/329 [==============================] - 2s 5ms/step - loss: 0.0000e+00 - accuracy: 0.1119 - val_loss: 0.0000e+00 - val_accuracy: 0.1135\n",
            "Epoch 3/20\n",
            "329/329 [==============================] - 2s 5ms/step - loss: 0.0000e+00 - accuracy: 0.1119 - val_loss: 0.0000e+00 - val_accuracy: 0.1135\n",
            "Epoch 4/20\n",
            "329/329 [==============================] - 2s 5ms/step - loss: 0.0000e+00 - accuracy: 0.1119 - val_loss: 0.0000e+00 - val_accuracy: 0.1135\n",
            "Epoch 5/20\n",
            "329/329 [==============================] - 2s 5ms/step - loss: 0.0000e+00 - accuracy: 0.1119 - val_loss: 0.0000e+00 - val_accuracy: 0.1135\n",
            "Epoch 6/20\n",
            "329/329 [==============================] - 2s 5ms/step - loss: 0.0000e+00 - accuracy: 0.1119 - val_loss: 0.0000e+00 - val_accuracy: 0.1135\n",
            "Epoch 7/20\n",
            "329/329 [==============================] - 2s 5ms/step - loss: 0.0000e+00 - accuracy: 0.1119 - val_loss: 0.0000e+00 - val_accuracy: 0.1135\n",
            "Epoch 8/20\n",
            "329/329 [==============================] - 2s 5ms/step - loss: 0.0000e+00 - accuracy: 0.1119 - val_loss: 0.0000e+00 - val_accuracy: 0.1135\n",
            "Epoch 9/20\n",
            "329/329 [==============================] - 2s 5ms/step - loss: 0.0000e+00 - accuracy: 0.1119 - val_loss: 0.0000e+00 - val_accuracy: 0.1135\n",
            "Epoch 10/20\n",
            "329/329 [==============================] - 2s 5ms/step - loss: 0.0000e+00 - accuracy: 0.1119 - val_loss: 0.0000e+00 - val_accuracy: 0.1135\n",
            "Epoch 11/20\n",
            "329/329 [==============================] - 2s 5ms/step - loss: 0.0000e+00 - accuracy: 0.1119 - val_loss: 0.0000e+00 - val_accuracy: 0.1135\n",
            "Epoch 12/20\n",
            "329/329 [==============================] - 2s 5ms/step - loss: 0.0000e+00 - accuracy: 0.1119 - val_loss: 0.0000e+00 - val_accuracy: 0.1135\n",
            "Epoch 13/20\n",
            "329/329 [==============================] - 2s 5ms/step - loss: 0.0000e+00 - accuracy: 0.1119 - val_loss: 0.0000e+00 - val_accuracy: 0.1135\n",
            "Epoch 14/20\n",
            "329/329 [==============================] - 2s 5ms/step - loss: 0.0000e+00 - accuracy: 0.1119 - val_loss: 0.0000e+00 - val_accuracy: 0.1135\n",
            "Epoch 15/20\n",
            "329/329 [==============================] - 2s 5ms/step - loss: 0.0000e+00 - accuracy: 0.1119 - val_loss: 0.0000e+00 - val_accuracy: 0.1135\n",
            "Epoch 16/20\n",
            "329/329 [==============================] - 3s 8ms/step - loss: 0.0000e+00 - accuracy: 0.1119 - val_loss: 0.0000e+00 - val_accuracy: 0.1135\n",
            "Epoch 17/20\n",
            "329/329 [==============================] - 3s 8ms/step - loss: 0.0000e+00 - accuracy: 0.1119 - val_loss: 0.0000e+00 - val_accuracy: 0.1135\n",
            "Epoch 18/20\n",
            "329/329 [==============================] - 3s 8ms/step - loss: 0.0000e+00 - accuracy: 0.1119 - val_loss: 0.0000e+00 - val_accuracy: 0.1135\n",
            "Epoch 19/20\n",
            "329/329 [==============================] - 2s 5ms/step - loss: 0.0000e+00 - accuracy: 0.1119 - val_loss: 0.0000e+00 - val_accuracy: 0.1135\n",
            "Epoch 20/20\n",
            "329/329 [==============================] - 2s 5ms/step - loss: 0.0000e+00 - accuracy: 0.1119 - val_loss: 0.0000e+00 - val_accuracy: 0.1135\n"
          ]
        },
        {
          "output_type": "execute_result",
          "data": {
            "text/plain": [
              "<keras.callbacks.History at 0x7fcffd97c690>"
            ]
          },
          "metadata": {},
          "execution_count": 22
        }
      ]
    },
    {
      "cell_type": "code",
      "source": [
        "score = model.evaluate(X_test, Y_test, verbose=0)\n",
        "print('loss=', score[0])\n",
        "print('accuracy=', score[1])"
      ],
      "metadata": {
        "id": "8-HgdJX6ZqoN",
        "colab": {
          "base_uri": "https://localhost:8080/"
        },
        "outputId": "a930b986-df3c-452a-e596-56e28d3adb5e"
      },
      "execution_count": null,
      "outputs": [
        {
          "output_type": "stream",
          "name": "stdout",
          "text": [
            "loss= 0.0\n",
            "accuracy= 0.11238888651132584\n"
          ]
        }
      ]
    },
    {
      "cell_type": "markdown",
      "source": [
        "**Sử dụng autoencoder 2D để giảm chiều dữ liệu của X_train và X_test**"
      ],
      "metadata": {
        "id": "Opx4ulUk2nGx"
      }
    },
    {
      "cell_type": "code",
      "source": [
        "\n",
        "X_train = X_train/255\n",
        "X_test = X_test/255"
      ],
      "metadata": {
        "id": "G1s7eYeyzYNe"
      },
      "execution_count": null,
      "outputs": []
    },
    {
      "cell_type": "code",
      "source": [
        "\n",
        "encoding_dim = 32\n",
        "from keras.models import Model\n",
        "from keras.layers import Input, Dense\n",
        "input_img = Input(shape=(784,))\n",
        "# model = Sequential()\n",
        "# model.add(Conv2D(32, (3, 3), activation='relu', kernel_initializer='he_uniform', input_shape=input_shape))\n",
        "encoded = Dense(encoding_dim, activation='relu') (input_img)\n",
        "decoded = Dense(784, activation='sigmoid')(encoded)\n",
        "autoencoder = Model(input_img, decoded)"
      ],
      "metadata": {
        "id": "TzS7e_4k3cfv"
      },
      "execution_count": null,
      "outputs": []
    },
    {
      "cell_type": "code",
      "source": [
        "autoencoder.compile(optimizer='adadelta', loss='binary_crossentropy')\n",
        "autoencoder.fit(X_train,X_train, epochs=5, batch_size=128, shuffle=True,\n",
        "                validation_data= (X_test,X_test))"
      ],
      "metadata": {
        "colab": {
          "base_uri": "https://localhost:8080/"
        },
        "id": "ESt2EHdO3gkX",
        "outputId": "a2123fcc-8bb4-47c8-804d-7bfe63cc94ac"
      },
      "execution_count": null,
      "outputs": [
        {
          "output_type": "stream",
          "name": "stdout",
          "text": [
            "Epoch 1/5\n",
            "329/329 [==============================] - 6s 16ms/step - loss: 0.6930 - val_loss: 0.6929\n",
            "Epoch 2/5\n",
            "329/329 [==============================] - 4s 11ms/step - loss: 0.6928 - val_loss: 0.6927\n",
            "Epoch 3/5\n",
            "329/329 [==============================] - 4s 11ms/step - loss: 0.6926 - val_loss: 0.6925\n",
            "Epoch 4/5\n",
            "329/329 [==============================] - 6s 17ms/step - loss: 0.6924 - val_loss: 0.6923\n",
            "Epoch 5/5\n",
            "329/329 [==============================] - 5s 16ms/step - loss: 0.6922 - val_loss: 0.6921\n"
          ]
        },
        {
          "output_type": "execute_result",
          "data": {
            "text/plain": [
              "<keras.callbacks.History at 0x7fcfff9d4610>"
            ]
          },
          "metadata": {},
          "execution_count": 26
        }
      ]
    },
    {
      "cell_type": "markdown",
      "source": [
        "** Sử dụng PCA để giảm chiều dữ liệu của X_train và X_test**"
      ],
      "metadata": {
        "id": "A3dMX8Rz3kik"
      }
    },
    {
      "cell_type": "code",
      "source": [
        "from sklearn.decomposition import PCA\n",
        "рса = PCA(32) \n",
        "рса.fit(X_train)\n",
        "TRAIN= рса.transform(X_train)\n",
        "TEST = рса.transform(X_test)\n",
        "approximation=рса.inverse_transform(TEST) \n",
        "print(TRAIN)\n",
        "print(type(TRAIN))\n",
        "print(TRAIN.shape)"
      ],
      "metadata": {
        "colab": {
          "base_uri": "https://localhost:8080/"
        },
        "id": "r9QCDJFM3geO",
        "outputId": "9b754c5d-8d91-454c-cfeb-1ef985dd7399"
      },
      "execution_count": null,
      "outputs": [
        {
          "output_type": "stream",
          "name": "stdout",
          "text": [
            "[[-0.8354301  -3.2766185  -1.9230684  ...  0.52768975 -0.31704292\n",
            "   1.3887513 ]\n",
            " [ 4.437015    1.3619323   1.9478533  ... -0.65517306  0.07294416\n",
            "  -0.8501115 ]\n",
            " [ 5.5029902   0.6387526   1.2199163  ... -0.16157845  0.2778429\n",
            "  -0.620139  ]\n",
            " ...\n",
            " [ 0.31979546  2.1360347   0.89348006 ...  0.06790257 -1.2584934\n",
            "   0.55836606]\n",
            " [ 0.3905471   0.18130736  2.934424   ... -0.07849997 -0.2597994\n",
            "   0.3698339 ]\n",
            " [-3.5295143   2.0206964  -0.02405521 ... -0.17556122  0.18340665\n",
            "   1.110446  ]]\n",
            "<class 'numpy.ndarray'>\n",
            "(41999, 32)\n"
          ]
        }
      ]
    },
    {
      "cell_type": "code",
      "source": [
        "input_img = Input(shape=(32,))\n",
        "# model = Sequential()\n",
        "# model.add(Conv2D(32, (3, 3), activation='relu', kernel_initializer='he_uniform', input_shape=input_shape))\n",
        "encoded = Dense(10, activation='relu') (input_img)\n",
        "decoded = Dense(32, activation='sigmoid')(encoded)\n",
        "pca = Model(input_img, decoded)"
      ],
      "metadata": {
        "id": "zkpB3kDy37au"
      },
      "execution_count": null,
      "outputs": []
    },
    {
      "cell_type": "code",
      "source": [
        "pca.compile(optimizer='adadelta', loss='binary_crossentropy')\n",
        "pca.fit(TRAIN,TRAIN, epochs=5, batch_size=128, shuffle=True,\n",
        "                validation_data= (TEST,TEST))"
      ],
      "metadata": {
        "colab": {
          "base_uri": "https://localhost:8080/"
        },
        "id": "-OJBYZp63-Qt",
        "outputId": "6deceb39-4ec8-4877-e3e2-083857b813a5"
      },
      "execution_count": null,
      "outputs": [
        {
          "output_type": "stream",
          "name": "stdout",
          "text": [
            "Epoch 1/5\n",
            "329/329 [==============================] - 3s 5ms/step - loss: 0.7638 - val_loss: 0.7610\n",
            "Epoch 2/5\n",
            "329/329 [==============================] - 1s 3ms/step - loss: 0.7612 - val_loss: 0.7583\n",
            "Epoch 3/5\n",
            "329/329 [==============================] - 1s 3ms/step - loss: 0.7583 - val_loss: 0.7554\n",
            "Epoch 4/5\n",
            "329/329 [==============================] - 1s 3ms/step - loss: 0.7552 - val_loss: 0.7522\n",
            "Epoch 5/5\n",
            "329/329 [==============================] - 1s 3ms/step - loss: 0.7520 - val_loss: 0.7490\n"
          ]
        },
        {
          "output_type": "execute_result",
          "data": {
            "text/plain": [
              "<keras.callbacks.History at 0x7fcfff7ad510>"
            ]
          },
          "metadata": {},
          "execution_count": 31
        }
      ]
    }
  ]
}